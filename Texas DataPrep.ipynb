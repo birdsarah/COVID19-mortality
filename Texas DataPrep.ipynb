{
 "cells": [
  {
   "cell_type": "code",
   "execution_count": 1,
   "metadata": {},
   "outputs": [],
   "source": [
    "import requests\n",
    "import pandas as pd\n",
    "import json"
   ]
  },
  {
   "cell_type": "code",
   "execution_count": 2,
   "metadata": {},
   "outputs": [],
   "source": [
    "out = requests.get('https://covidtracking.com/api/states')\n",
    "df_out = pd.DataFrame(out.json())\n",
    "df_out.set_index('state', drop=True, inplace=True)"
   ]
  },
  {
   "cell_type": "code",
   "execution_count": 3,
   "metadata": {},
   "outputs": [
    {
     "data": {
      "text/plain": [
       "positive               194\n",
       "negative              5083\n",
       "death                    3\n",
       "total                 5277\n",
       "lastUpdateEt    3/20 11:00\n",
       "dtype: object"
      ]
     },
     "execution_count": 3,
     "metadata": {},
     "output_type": "execute_result"
    }
   ],
   "source": [
    "tx_new = pd.Series(dict(\n",
    "    positive=194,\n",
    "    negative=5083,\n",
    "    death=3,\n",
    "    total=5277,\n",
    "    lastUpdateEt='3/20 11:00'\n",
    "))\n",
    "tx_new"
   ]
  },
  {
   "cell_type": "code",
   "execution_count": 4,
   "metadata": {},
   "outputs": [],
   "source": [
    "df_out.at['TX'] = tx_new"
   ]
  },
  {
   "cell_type": "code",
   "execution_count": 5,
   "metadata": {},
   "outputs": [],
   "source": [
    "df_out.to_parquet('states_today.parquet')"
   ]
  },
  {
   "cell_type": "code",
   "execution_count": 15,
   "metadata": {},
   "outputs": [],
   "source": [
    "ts = requests.get('https://covidtracking.com/api/states/daily')\n",
    "df_ts = pd.DataFrame(ts.json())"
   ]
  },
  {
   "cell_type": "code",
   "execution_count": 16,
   "metadata": {},
   "outputs": [
    {
     "data": {
      "text/plain": [
       "date        20200320\n",
       "state             TX\n",
       "positive         194\n",
       "negative        5083\n",
       "death              3\n",
       "total           5277\n",
       "dtype: object"
      ]
     },
     "execution_count": 16,
     "metadata": {},
     "output_type": "execute_result"
    }
   ],
   "source": [
    "tx_new = pd.Series(dict(\n",
    "    date=20200320,\n",
    "    state='TX',\n",
    "    positive=194,\n",
    "    negative=5083,\n",
    "    death=3,\n",
    "    total=5277,\n",
    "))\n",
    "tx_new"
   ]
  },
  {
   "cell_type": "code",
   "execution_count": 17,
   "metadata": {},
   "outputs": [
    {
     "data": {
      "text/plain": [
       "date                       20200313\n",
       "state                            TX\n",
       "positive                         39\n",
       "negative                        181\n",
       "pending                         NaN\n",
       "death                             0\n",
       "total                           220\n",
       "dateChecked    2020-03-13T20:00:00Z\n",
       "Name: 369, dtype: object"
      ]
     },
     "execution_count": 17,
     "metadata": {},
     "output_type": "execute_result"
    }
   ],
   "source": [
    "i = df_ts[(df_ts['date'] == 20200313) & (df_ts.state == 'TX')].index[0]\n",
    "df_ts.at[i, 'total'] = 220\n",
    "df_ts.at[i, 'death'] = 0\n",
    "df_ts.at[i, 'negative'] = df_ts.at[i, 'total'] - df_ts.at[i, 'positive'] \n",
    "df_ts.loc[i]"
   ]
  },
  {
   "cell_type": "code",
   "execution_count": 18,
   "metadata": {},
   "outputs": [
    {
     "data": {
      "text/html": [
       "<div>\n",
       "<style scoped>\n",
       "    .dataframe tbody tr th:only-of-type {\n",
       "        vertical-align: middle;\n",
       "    }\n",
       "\n",
       "    .dataframe tbody tr th {\n",
       "        vertical-align: top;\n",
       "    }\n",
       "\n",
       "    .dataframe thead th {\n",
       "        text-align: right;\n",
       "    }\n",
       "</style>\n",
       "<table border=\"1\" class=\"dataframe\">\n",
       "  <thead>\n",
       "    <tr style=\"text-align: right;\">\n",
       "      <th></th>\n",
       "      <th>date</th>\n",
       "      <th>state</th>\n",
       "      <th>positive</th>\n",
       "      <th>negative</th>\n",
       "      <th>pending</th>\n",
       "      <th>death</th>\n",
       "      <th>total</th>\n",
       "      <th>dateChecked</th>\n",
       "    </tr>\n",
       "  </thead>\n",
       "  <tbody>\n",
       "    <tr>\n",
       "      <th>753</th>\n",
       "      <td>20200304</td>\n",
       "      <td>SC</td>\n",
       "      <td>0</td>\n",
       "      <td>5.0</td>\n",
       "      <td>0.0</td>\n",
       "      <td>NaN</td>\n",
       "      <td>5</td>\n",
       "      <td>2020-03-04T21:00:00Z</td>\n",
       "    </tr>\n",
       "    <tr>\n",
       "      <th>754</th>\n",
       "      <td>20200304</td>\n",
       "      <td>TX</td>\n",
       "      <td>1</td>\n",
       "      <td>NaN</td>\n",
       "      <td>NaN</td>\n",
       "      <td>NaN</td>\n",
       "      <td>1</td>\n",
       "      <td>2020-03-04T21:00:00Z</td>\n",
       "    </tr>\n",
       "    <tr>\n",
       "      <th>755</th>\n",
       "      <td>20200304</td>\n",
       "      <td>WA</td>\n",
       "      <td>39</td>\n",
       "      <td>NaN</td>\n",
       "      <td>NaN</td>\n",
       "      <td>NaN</td>\n",
       "      <td>39</td>\n",
       "      <td>2020-03-04T21:00:00Z</td>\n",
       "    </tr>\n",
       "    <tr>\n",
       "      <th>756</th>\n",
       "      <td>20200304</td>\n",
       "      <td>WI</td>\n",
       "      <td>1</td>\n",
       "      <td>19.0</td>\n",
       "      <td>6.0</td>\n",
       "      <td>NaN</td>\n",
       "      <td>26</td>\n",
       "      <td>2020-03-04T21:00:00Z</td>\n",
       "    </tr>\n",
       "    <tr>\n",
       "      <th>757</th>\n",
       "      <td>20200320</td>\n",
       "      <td>TX</td>\n",
       "      <td>194</td>\n",
       "      <td>5083.0</td>\n",
       "      <td>NaN</td>\n",
       "      <td>3.0</td>\n",
       "      <td>5277</td>\n",
       "      <td>NaN</td>\n",
       "    </tr>\n",
       "  </tbody>\n",
       "</table>\n",
       "</div>"
      ],
      "text/plain": [
       "         date state  positive  negative  pending  death  total  \\\n",
       "753  20200304    SC         0       5.0      0.0    NaN      5   \n",
       "754  20200304    TX         1       NaN      NaN    NaN      1   \n",
       "755  20200304    WA        39       NaN      NaN    NaN     39   \n",
       "756  20200304    WI         1      19.0      6.0    NaN     26   \n",
       "757  20200320    TX       194    5083.0      NaN    3.0   5277   \n",
       "\n",
       "              dateChecked  \n",
       "753  2020-03-04T21:00:00Z  \n",
       "754  2020-03-04T21:00:00Z  \n",
       "755  2020-03-04T21:00:00Z  \n",
       "756  2020-03-04T21:00:00Z  \n",
       "757                   NaN  "
      ]
     },
     "execution_count": 18,
     "metadata": {},
     "output_type": "execute_result"
    }
   ],
   "source": [
    "df_ts = df_ts.append(tx_new, ignore_index=True)\n",
    "df_ts.tail()"
   ]
  },
  {
   "cell_type": "code",
   "execution_count": 19,
   "metadata": {},
   "outputs": [],
   "source": [
    "df_ts.to_parquet('states_daily.parquet')"
   ]
  },
  {
   "cell_type": "code",
   "execution_count": null,
   "metadata": {},
   "outputs": [],
   "source": []
  }
 ],
 "metadata": {
  "kernelspec": {
   "display_name": "Python 3",
   "language": "python",
   "name": "python3"
  },
  "language_info": {
   "codemirror_mode": {
    "name": "ipython",
    "version": 3
   },
   "file_extension": ".py",
   "mimetype": "text/x-python",
   "name": "python",
   "nbconvert_exporter": "python",
   "pygments_lexer": "ipython3",
   "version": "3.8.1"
  }
 },
 "nbformat": 4,
 "nbformat_minor": 4
}
