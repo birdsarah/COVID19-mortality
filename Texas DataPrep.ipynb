{
 "cells": [
  {
   "cell_type": "code",
   "execution_count": 1,
   "metadata": {},
   "outputs": [],
   "source": [
    "import requests\n",
    "import pandas as pd\n",
    "import json"
   ]
  },
  {
   "cell_type": "code",
   "execution_count": 17,
   "metadata": {},
   "outputs": [],
   "source": [
    "out = requests.get('https://covidtracking.com/api/states')\n",
    "df_out = pd.DataFrame(out.json())\n",
    "df_out.set_index('state', drop=True, inplace=True)"
   ]
  },
  {
   "cell_type": "code",
   "execution_count": 18,
   "metadata": {},
   "outputs": [],
   "source": [
    "df_out.death = df_out.death.fillna(0)"
   ]
  },
  {
   "cell_type": "code",
   "execution_count": 19,
   "metadata": {},
   "outputs": [],
   "source": [
    "df_out.to_parquet('states_today.parquet')"
   ]
  },
  {
   "cell_type": "code",
   "execution_count": 20,
   "metadata": {},
   "outputs": [],
   "source": [
    "ts = requests.get('https://covidtracking.com/api/states/daily')\n",
    "df_ts = pd.DataFrame(ts.json())"
   ]
  },
  {
   "cell_type": "code",
   "execution_count": 21,
   "metadata": {},
   "outputs": [
    {
     "data": {
      "text/plain": [
       "date                       20200313\n",
       "state                            TX\n",
       "positive                         39\n",
       "negative                        181\n",
       "pending                         NaN\n",
       "death                             0\n",
       "total                           220\n",
       "dateChecked    2020-03-13T20:00:00Z\n",
       "Name: 425, dtype: object"
      ]
     },
     "execution_count": 21,
     "metadata": {},
     "output_type": "execute_result"
    }
   ],
   "source": [
    "i = df_ts[(df_ts['date'] == 20200313) & (df_ts.state == 'TX')].index[0]\n",
    "df_ts.at[i, 'total'] = 220\n",
    "df_ts.at[i, 'death'] = 0\n",
    "df_ts.at[i, 'negative'] = df_ts.at[i, 'total'] - df_ts.at[i, 'positive'] \n",
    "df_ts.loc[i]"
   ]
  },
  {
   "cell_type": "code",
   "execution_count": 22,
   "metadata": {},
   "outputs": [
    {
     "data": {
      "text/html": [
       "<div>\n",
       "<style scoped>\n",
       "    .dataframe tbody tr th:only-of-type {\n",
       "        vertical-align: middle;\n",
       "    }\n",
       "\n",
       "    .dataframe tbody tr th {\n",
       "        vertical-align: top;\n",
       "    }\n",
       "\n",
       "    .dataframe thead th {\n",
       "        text-align: right;\n",
       "    }\n",
       "</style>\n",
       "<table border=\"1\" class=\"dataframe\">\n",
       "  <thead>\n",
       "    <tr style=\"text-align: right;\">\n",
       "      <th></th>\n",
       "      <th>date</th>\n",
       "      <th>state</th>\n",
       "      <th>positive</th>\n",
       "      <th>negative</th>\n",
       "      <th>pending</th>\n",
       "      <th>death</th>\n",
       "      <th>total</th>\n",
       "      <th>dateChecked</th>\n",
       "    </tr>\n",
       "  </thead>\n",
       "  <tbody>\n",
       "    <tr>\n",
       "      <th>808</th>\n",
       "      <td>20200304</td>\n",
       "      <td>OR</td>\n",
       "      <td>3</td>\n",
       "      <td>29.0</td>\n",
       "      <td>18.0</td>\n",
       "      <td>0.0</td>\n",
       "      <td>50</td>\n",
       "      <td>2020-03-04T21:00:00Z</td>\n",
       "    </tr>\n",
       "    <tr>\n",
       "      <th>809</th>\n",
       "      <td>20200304</td>\n",
       "      <td>SC</td>\n",
       "      <td>0</td>\n",
       "      <td>5.0</td>\n",
       "      <td>0.0</td>\n",
       "      <td>0.0</td>\n",
       "      <td>5</td>\n",
       "      <td>2020-03-04T21:00:00Z</td>\n",
       "    </tr>\n",
       "    <tr>\n",
       "      <th>810</th>\n",
       "      <td>20200304</td>\n",
       "      <td>TX</td>\n",
       "      <td>1</td>\n",
       "      <td>NaN</td>\n",
       "      <td>NaN</td>\n",
       "      <td>0.0</td>\n",
       "      <td>1</td>\n",
       "      <td>2020-03-04T21:00:00Z</td>\n",
       "    </tr>\n",
       "    <tr>\n",
       "      <th>811</th>\n",
       "      <td>20200304</td>\n",
       "      <td>WA</td>\n",
       "      <td>39</td>\n",
       "      <td>NaN</td>\n",
       "      <td>NaN</td>\n",
       "      <td>0.0</td>\n",
       "      <td>39</td>\n",
       "      <td>2020-03-04T21:00:00Z</td>\n",
       "    </tr>\n",
       "    <tr>\n",
       "      <th>812</th>\n",
       "      <td>20200304</td>\n",
       "      <td>WI</td>\n",
       "      <td>1</td>\n",
       "      <td>19.0</td>\n",
       "      <td>6.0</td>\n",
       "      <td>0.0</td>\n",
       "      <td>26</td>\n",
       "      <td>2020-03-04T21:00:00Z</td>\n",
       "    </tr>\n",
       "  </tbody>\n",
       "</table>\n",
       "</div>"
      ],
      "text/plain": [
       "         date state  positive  negative  pending  death  total  \\\n",
       "808  20200304    OR         3      29.0     18.0    0.0     50   \n",
       "809  20200304    SC         0       5.0      0.0    0.0      5   \n",
       "810  20200304    TX         1       NaN      NaN    0.0      1   \n",
       "811  20200304    WA        39       NaN      NaN    0.0     39   \n",
       "812  20200304    WI         1      19.0      6.0    0.0     26   \n",
       "\n",
       "              dateChecked  \n",
       "808  2020-03-04T21:00:00Z  \n",
       "809  2020-03-04T21:00:00Z  \n",
       "810  2020-03-04T21:00:00Z  \n",
       "811  2020-03-04T21:00:00Z  \n",
       "812  2020-03-04T21:00:00Z  "
      ]
     },
     "execution_count": 22,
     "metadata": {},
     "output_type": "execute_result"
    }
   ],
   "source": [
    "df_ts.death = df_ts.death.fillna(0)\n",
    "df_ts.tail()"
   ]
  },
  {
   "cell_type": "code",
   "execution_count": 23,
   "metadata": {},
   "outputs": [],
   "source": [
    "df_ts.to_parquet('states_daily.parquet')"
   ]
  },
  {
   "cell_type": "code",
   "execution_count": null,
   "metadata": {},
   "outputs": [],
   "source": []
  }
 ],
 "metadata": {
  "kernelspec": {
   "display_name": "Python 3",
   "language": "python",
   "name": "python3"
  },
  "language_info": {
   "codemirror_mode": {
    "name": "ipython",
    "version": 3
   },
   "file_extension": ".py",
   "mimetype": "text/x-python",
   "name": "python",
   "nbconvert_exporter": "python",
   "pygments_lexer": "ipython3",
   "version": "3.8.1"
  }
 },
 "nbformat": 4,
 "nbformat_minor": 4
}
