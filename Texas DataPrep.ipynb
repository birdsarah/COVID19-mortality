{
 "cells": [
  {
   "cell_type": "code",
   "execution_count": 24,
   "metadata": {},
   "outputs": [],
   "source": [
    "import requests\n",
    "import pandas as pd\n",
    "import json"
   ]
  },
  {
   "cell_type": "code",
   "execution_count": 25,
   "metadata": {},
   "outputs": [],
   "source": [
    "out = requests.get('https://covidtracking.com/api/states')\n",
    "df_out = pd.DataFrame(out.json())\n",
    "df_out.set_index('state', drop=True, inplace=True)"
   ]
  },
  {
   "cell_type": "code",
   "execution_count": 26,
   "metadata": {},
   "outputs": [],
   "source": [
    "df_out.to_parquet('states_today.parquet')"
   ]
  },
  {
   "cell_type": "code",
   "execution_count": 27,
   "metadata": {},
   "outputs": [],
   "source": [
    "ts = requests.get('https://covidtracking.com/api/states/daily')\n",
    "df_ts = pd.DataFrame(ts.json())"
   ]
  },
  {
   "cell_type": "code",
   "execution_count": 28,
   "metadata": {},
   "outputs": [
    {
     "data": {
      "text/plain": [
       "date                       20200313\n",
       "state                            TX\n",
       "positive                         39\n",
       "negative                        181\n",
       "pending                         NaN\n",
       "death                             0\n",
       "total                           220\n",
       "dateChecked    2020-03-13T20:00:00Z\n",
       "Name: 425, dtype: object"
      ]
     },
     "execution_count": 28,
     "metadata": {},
     "output_type": "execute_result"
    }
   ],
   "source": [
    "i = df_ts[(df_ts['date'] == 20200313) & (df_ts.state == 'TX')].index[0]\n",
    "df_ts.at[i, 'total'] = 220\n",
    "df_ts.at[i, 'death'] = 0\n",
    "df_ts.at[i, 'negative'] = df_ts.at[i, 'total'] - df_ts.at[i, 'positive'] \n",
    "df_ts.loc[i]"
   ]
  },
  {
   "cell_type": "code",
   "execution_count": 30,
   "metadata": {},
   "outputs": [],
   "source": [
    "df_ts.to_parquet('states_daily.parquet')"
   ]
  },
  {
   "cell_type": "code",
   "execution_count": null,
   "metadata": {},
   "outputs": [],
   "source": []
  }
 ],
 "metadata": {
  "kernelspec": {
   "display_name": "Python 3",
   "language": "python",
   "name": "python3"
  },
  "language_info": {
   "codemirror_mode": {
    "name": "ipython",
    "version": 3
   },
   "file_extension": ".py",
   "mimetype": "text/x-python",
   "name": "python",
   "nbconvert_exporter": "python",
   "pygments_lexer": "ipython3",
   "version": "3.8.1"
  }
 },
 "nbformat": 4,
 "nbformat_minor": 4
}
