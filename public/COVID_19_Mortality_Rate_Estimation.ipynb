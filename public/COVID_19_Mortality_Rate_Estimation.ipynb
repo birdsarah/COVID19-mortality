{
  "nbformat": 4,
  "nbformat_minor": 0,
  "metadata": {
    "colab": {
      "name": "COVID-19 Mortality Rate Estimation.ipynb",
      "provenance": [],
      "collapsed_sections": []
    },
    "kernelspec": {
      "name": "python3",
      "display_name": "Python 3"
    }
  },
  "cells": [
    {
      "cell_type": "markdown",
      "metadata": {
        "id": "bMoe_6i9CVfd",
        "colab_type": "text"
      },
      "source": [
        "# Estimating the Mortality Rate for COVID-19\n",
        "> Using country-level covariates to correct for testing & reporting biases and estimate a true mortality rate\n",
        "- author: Joseph Richards\n",
        "- comments: true\n",
        "- permalink: /covid-19-mortality-estimation/\n",
        "- toc: true"
      ]
    },
    {
      "cell_type": "markdown",
      "metadata": {
        "id": "dNvqD75ICapq",
        "colab_type": "text"
      },
      "source": [
        "In this project, we attempt to estimate the true mortality rate for COVID-19 while controlling for country-level covariates such as:\n",
        "* age of outbreak in the country\n",
        "* transparency of the country's government\n",
        "* access to healthcare\n",
        "* demographics such as age of population and rural vs. urban\n",
        "\n",
        "As of March 10, the **overall reported mortality rate is 3.5%**.  However, this figure does not account for **systematic biases in case reporting and testing**.  The observed mortality of COVID-19 has varied widely from country to country (as of early March 2020).  For instance, as of March 10, mortality rates have ranged from < 0.1% in places like Germany (1100+ cases) to upwards of 5% in Italy (9000+ cases) and 3.9% in China (80k+ cases).\n",
        "\n",
        "The point of our modelling work here is to **try to understand and correct for the country-to-country differences that may cause the observed discrepancies in COVID-19 country-wide mortality rates**.  That way we can \"undo\" those biases and try to **pin down an overall *real* mortality rate**.\n",
        "\n",
        "Full details about the model are available at:  https://github.com/jwrichar/COVID19-mortality"
      ]
    },
    {
      "cell_type": "code",
      "metadata": {
        "id": "XtQpnxQeDuc4",
        "colab_type": "code",
        "colab": {}
      },
      "source": [
        "#hide\n",
        "\n",
        "! pip install pymc3>=3.8 pandas>=0.24.1 matplotlib>=3.2.0"
      ],
      "execution_count": 0,
      "outputs": []
    },
    {
      "cell_type": "code",
      "metadata": {
        "id": "gYLQETHHEsHR",
        "colab_type": "code",
        "colab": {}
      },
      "source": [
        "#hide\n",
        "\n",
        "# Setup and imports\n",
        "%matplotlib inline\n",
        "\n",
        "import warnings\n",
        "warnings.simplefilter('ignore')\n",
        "\n",
        "import matplotlib.pyplot as plt\n",
        "import numpy as np\n",
        "import pandas as pd\n",
        "import pymc3 as pm"
      ],
      "execution_count": 0,
      "outputs": []
    },
    {
      "cell_type": "code",
      "metadata": {
        "id": "-SYMy6oJMw9t",
        "colab_type": "code",
        "colab": {}
      },
      "source": [
        "#hide\n",
        "\n",
        "# constants\n",
        "\n",
        "ignore_countries = [\n",
        "    'Others',\n",
        "    'Cruise Ship'\n",
        "]\n",
        "\n",
        "cpi_country_mapping = {\n",
        "    'United States of America': 'US',\n",
        "    'China': 'Mainland China'\n",
        "}\n",
        "\n",
        "wb_country_mapping = {\n",
        "    'United States': 'US',\n",
        "    'Egypt, Arab Rep.': 'Egypt',\n",
        "    'Hong Kong SAR, China': 'Hong Kong',\n",
        "    'Iran, Islamic Rep.': 'Iran',\n",
        "    'China': 'Mainland China',\n",
        "    'Russian Federation': 'Russia',\n",
        "    'Slovak Republic': 'Slovakia',\n",
        "    'Korea, Rep.': 'Korea, South'\n",
        "}\n",
        "\n",
        "wb_covariates = [\n",
        "    ('SH.XPD.OOPC.CH.ZS',\n",
        "        'healthcare_oop_expenditure'),\n",
        "    ('SH.MED.BEDS.ZS',\n",
        "        'hospital_beds'),\n",
        "    ('HD.HCI.OVRL',\n",
        "        'hci'),\n",
        "    ('SP.POP.65UP.TO.ZS',\n",
        "        'population_perc_over65'),\n",
        "    ('SP.RUR.TOTL.ZS',\n",
        "        'population_perc_rural')\n",
        "]"
      ],
      "execution_count": 0,
      "outputs": []
    },
    {
      "cell_type": "code",
      "metadata": {
        "id": "phZcRKGJMzJ3",
        "colab_type": "code",
        "colab": {}
      },
      "source": [
        "#hide\n",
        "\n",
        "# data loading and manipulation\n",
        "\n",
        "from datetime import datetime\n",
        "import os\n",
        "\n",
        "import numpy as np\n",
        "import pandas as pd\n",
        "\n",
        "\n",
        "def get_all_data():\n",
        "    '''\n",
        "    Main routine that grabs all COVID and covariate data and\n",
        "    returns them as a single dataframe that contains:\n",
        "\n",
        "    * count of cumulative cases and deaths by country (by today's date)\n",
        "    * days since first case for each country\n",
        "    * CPI gov't transparency index\n",
        "    * World Bank data on population, healthcare, etc. by country\n",
        "    '''\n",
        "\n",
        "    all_covid_data = _get_latest_covid_timeseries()\n",
        "\n",
        "    covid_cases_rollup = _rollup_by_country(all_covid_data['Confirmed'])\n",
        "    covid_deaths_rollup = _rollup_by_country(all_covid_data['Deaths'])\n",
        "\n",
        "    todays_date = covid_cases_rollup.columns.max()\n",
        "\n",
        "    # Create DataFrame with today's cumulative case and death count, by country\n",
        "    df_out = pd.DataFrame({'cases': covid_cases_rollup[todays_date],\n",
        "                           'deaths': covid_deaths_rollup[todays_date]})\n",
        "\n",
        "    _clean_country_list(df_out)\n",
        "    _clean_country_list(covid_cases_rollup)\n",
        "\n",
        "    # Add observed death rate:\n",
        "    df_out['death_rate_observed'] = df_out.apply(\n",
        "        lambda row: row['deaths'] / float(row['cases']),\n",
        "        axis=1)\n",
        "\n",
        "    # Add covariate for days since first case\n",
        "    df_out['days_since_first_case'] = _compute_days_since_first_case(\n",
        "        covid_cases_rollup)\n",
        "\n",
        "    # Add CPI covariate:\n",
        "    _add_cpi_data(df_out)\n",
        "\n",
        "    # Add World Bank covariates:\n",
        "    _add_wb_data(df_out)\n",
        "\n",
        "    # Drop any country w/o covariate data:\n",
        "    num_null = df_out.isnull().sum(axis=1)\n",
        "    to_drop_idx = df_out.index[num_null > 1]\n",
        "    print('Dropping %i/%i countries due to lack of data' %\n",
        "          (len(to_drop_idx), len(df_out)))\n",
        "    df_out.drop(to_drop_idx, axis=0, inplace=True)\n",
        "\n",
        "    return df_out\n",
        "\n",
        "\n",
        "def _get_latest_covid_timeseries():\n",
        "    ''' Pull latest time-series data from JHU CSSE database '''\n",
        "\n",
        "    repo = 'https://raw.githubusercontent.com/CSSEGISandData/COVID-19/master/'\n",
        "    data_path = 'csse_covid_19_data/csse_covid_19_time_series/'\n",
        "\n",
        "    all_data = {}\n",
        "    for status in ['Confirmed', 'Deaths', 'Recovered']:\n",
        "        file_name = 'time_series_19-covid-%s.csv' % status\n",
        "        all_data[status] = pd.read_csv(\n",
        "            '%s%s%s' % (repo, data_path, file_name))\n",
        "\n",
        "    return all_data\n",
        "\n",
        "\n",
        "def _rollup_by_country(df):\n",
        "    '''\n",
        "    Roll up each raw time-series by country, adding up the cases\n",
        "    across the individual states/provinces within the country\n",
        "\n",
        "    :param df: Pandas DataFrame of raw data from CSSE\n",
        "    :return: DataFrame of country counts\n",
        "    '''\n",
        "    gb = df.groupby('Country/Region')\n",
        "    df_rollup = gb.sum()\n",
        "    df_rollup.drop(['Lat', 'Long'], axis=1, inplace=True, errors='ignore')\n",
        "\n",
        "    # Convert column strings to dates:\n",
        "    idx_as_dt = [datetime.strptime(x, '%m/%d/%y') for x in df_rollup.columns]\n",
        "    df_rollup.columns = idx_as_dt\n",
        "    return df_rollup\n",
        "\n",
        "\n",
        "def _clean_country_list(df):\n",
        "    ''' Clean up input country list in df '''\n",
        "    # handle recent changes in country names:\n",
        "    country_rename = {\n",
        "        'Hong Kong SAR': 'Hong Kong',\n",
        "        'Taiwan*': 'Taiwan',\n",
        "        'Czechia': 'Czech Republic',\n",
        "        'Brunei': 'Brunei Darussalam',\n",
        "        'Iran (Islamic Republic of)': 'Iran',\n",
        "        'Viet Nam': 'Vietnam',\n",
        "        'Russian Federation': 'Russia',\n",
        "        'Republic of Korea': 'South Korea',\n",
        "        'Republic of Moldova': 'Moldova',\n",
        "        'China': 'Mainland China'\n",
        "    }\n",
        "    df.rename(country_rename, axis=0, inplace=True)\n",
        "    df.drop(ignore_countries, axis=0, inplace=True, errors='ignore')\n",
        "\n",
        "\n",
        "def _compute_days_since_first_case(df_cases):\n",
        "    ''' Compute the country-wise days since first confirmed case\n",
        "\n",
        "    :param df_cases: country-wise time-series of confirmed case counts\n",
        "    :return: Series of country-wise days since first case\n",
        "    '''\n",
        "    date_first_case = df_cases[df_cases > 0].idxmin(axis=1)\n",
        "    days_since_first_case = date_first_case.apply(\n",
        "        lambda x: (df_cases.columns.max() - x).days)\n",
        "    # Add 1 month for China, since outbreak started late 2019:\n",
        "    days_since_first_case.loc['Mainland China'] += 30\n",
        "\n",
        "    return days_since_first_case\n",
        "\n",
        "\n",
        "def _add_cpi_data(df_input):\n",
        "    '''\n",
        "    Add the Government transparency (CPI - corruption perceptions index)\n",
        "    data (by country) as a column in the COVID cases dataframe.\n",
        "\n",
        "    :param df_input: COVID-19 data rolled up country-wise\n",
        "    :return: None, add CPI data to df_input in place\n",
        "    '''\n",
        "    cpi_data = pd.read_excel(\n",
        "        'https://github.com/jwrichar/COVID19-mortality/blob/master/data/CPI2019.xlsx?raw=true',\n",
        "        skiprows=2)\n",
        "    cpi_data.set_index('Country', inplace=True, drop=True)\n",
        "    cpi_data.rename(cpi_country_mapping, axis=0, inplace=True)\n",
        "\n",
        "    # Add CPI score to input df:\n",
        "    df_input['cpi_score_2019'] = cpi_data['CPI score 2019']\n",
        "\n",
        "\n",
        "def _add_wb_data(df_input):\n",
        "    '''\n",
        "    Add the World Bank data covariates as columns in the COVID cases dataframe.\n",
        "\n",
        "    :param df_input: COVID-19 data rolled up country-wise\n",
        "    :return: None, add World Bank data to df_input in place\n",
        "    '''\n",
        "    wb_data = pd.read_csv(\n",
        "        'https://raw.githubusercontent.com/jwrichar/COVID19-mortality/master/data/world_bank_data.csv',\n",
        "        na_values='..')\n",
        "\n",
        "    for (wb_name, var_name) in wb_covariates:\n",
        "        wb_series = wb_data.loc[wb_data['Series Code'] == wb_name]\n",
        "        wb_series.set_index('Country Name', inplace=True, drop=True)\n",
        "        wb_series.rename(wb_country_mapping, axis=0, inplace=True)\n",
        "\n",
        "        # Add WB data:\n",
        "        df_input[var_name] = _get_most_recent_value(wb_series)\n",
        "\n",
        "\n",
        "def _get_most_recent_value(wb_series):\n",
        "    '''\n",
        "    Get most recent non-null value for each country in the World Bank\n",
        "    time-series data\n",
        "    '''\n",
        "    ts_data = wb_series[wb_series.columns[3::]]\n",
        "\n",
        "    def _helper(row):\n",
        "        row_nn = row[row.notnull()]\n",
        "        if len(row_nn):\n",
        "            return row_nn[-1]\n",
        "        else:\n",
        "            return np.nan\n",
        "\n",
        "    return ts_data.apply(_helper, axis=1)\n"
      ],
      "execution_count": 0,
      "outputs": []
    },
    {
      "cell_type": "code",
      "metadata": {
        "id": "AlGjkxH9N4Bt",
        "colab_type": "code",
        "colab": {
          "base_uri": "https://localhost:8080/",
          "height": 34
        },
        "outputId": "6c75e2a5-042f-4cf4-970c-a15962a664dd"
      },
      "source": [
        "#hide\n",
        "\n",
        "# Load the data (see source/data.py):\n",
        "df = get_all_data()\n",
        "# Impute NA's column-wise:\n",
        "df = df.apply(lambda x: x.fillna(x.mean()),axis=0)\n"
      ],
      "execution_count": 5,
      "outputs": [
        {
          "output_type": "stream",
          "text": [
            "Dropping 15/124 countries due to lack of data\n"
          ],
          "name": "stdout"
        }
      ]
    },
    {
      "cell_type": "markdown",
      "metadata": {
        "id": "dwPgV5dBO1Ll",
        "colab_type": "text"
      },
      "source": [
        "# Observed mortality rates"
      ]
    },
    {
      "cell_type": "code",
      "metadata": {
        "id": "afCZhOL-OSOd",
        "colab_type": "code",
        "colab": {
          "base_uri": "https://localhost:8080/",
          "height": 620
        },
        "outputId": "df5475cf-7c5f-4f7e-818a-f34aaa88b481"
      },
      "source": [
        "#collapse-hide\n",
        "\n",
        "print('Overall reported mortality rate: %.2f%%' % (100.0 * df['deaths'].sum() / df['cases'].sum()))\n",
        "\n",
        "df_highest = df.sort_values('cases', ascending=False).head(15)\n",
        "mortality_rate = pd.Series(\n",
        "    data=(df_highest['deaths']/df_highest['cases']).values,\n",
        "    index=map(lambda x: '%s (%i cases)' % (x, df_highest.loc[x]['cases']),\n",
        "              df_highest.index))\n",
        "ax = mortality_rate.plot.bar(\n",
        "    figsize=(14,7), title='Reported Mortality Rate by Country (countries w/ highest case counts)')\n",
        "ax.axhline(df['deaths'].sum() / df['cases'].sum(), color='k', ls='--')"
      ],
      "execution_count": 6,
      "outputs": [
        {
          "output_type": "stream",
          "text": [
            "Overall reported mortality rate: 3.74%\n"
          ],
          "name": "stdout"
        },
        {
          "output_type": "execute_result",
          "data": {
            "text/plain": [
              "<matplotlib.lines.Line2D at 0x7f40c54dd438>"
            ]
          },
          "metadata": {
            "tags": []
          },
          "execution_count": 6
        },
        {
          "output_type": "display_data",
          "data": {
            "image/png": "[encoded data removed]",
            "text/plain": [
              "<Figure size 1008x504 with 1 Axes>"
            ]
          },
          "metadata": {
            "tags": []
          }
        }
      ]
    },
    {
      "cell_type": "markdown",
      "metadata": {
        "id": "Z5qTKZtBTTCb",
        "colab_type": "text"
      },
      "source": [
        "# Model - COVID-19 Mortality Rate, controling for country factors"
      ]
    },
    {
      "cell_type": "code",
      "metadata": {
        "id": "SZeyDBm3O8g6",
        "colab_type": "code",
        "colab": {}
      },
      "source": [
        "#hide\n",
        "\n",
        "import numpy as np\n",
        "\n",
        "import pymc3 as pm\n",
        "\n",
        "\n",
        "def initialize_model(df):\n",
        "\n",
        "    # Normalize input covariates in a way that is sensible:\n",
        "\n",
        "    # (1) days since first case: upper\n",
        "    # mu_0 to reflect asymptotic mortality rate months after outbreak\n",
        "    _normalize_col(df, 'days_since_first_case', how='upper')\n",
        "    # (2) CPI score: upper\n",
        "    # mu_0 to reflect scenario in absence of corrupt govts\n",
        "    _normalize_col(df, 'cpi_score_2019', how='upper')\n",
        "    # (3) healthcare OOP spending: mean\n",
        "    # not sure which way this will go\n",
        "    _normalize_col(df, 'healthcare_oop_expenditure', how='mean')\n",
        "    # (4) hospital beds: upper\n",
        "    # more beds, more healthcare and tests\n",
        "    _normalize_col(df, 'hospital_beds', how='mean')\n",
        "    # (5) hci = human capital index: upper\n",
        "    # HCI measures education/health; mu_0 should reflect best scenario\n",
        "    _normalize_col(df, 'hci', how='mean')\n",
        "    # (6) % over 65: mean\n",
        "    # mu_0 to reflect average world demographic\n",
        "    _normalize_col(df, 'population_perc_over65', how='mean')\n",
        "    # (7) % rural: mean\n",
        "    # mu_0 to reflect average world demographic\n",
        "    _normalize_col(df, 'population_perc_rural', how='mean')\n",
        "\n",
        "    n = len(df)\n",
        "\n",
        "    covid_mortality_model = pm.Model()\n",
        "\n",
        "    with covid_mortality_model:\n",
        "\n",
        "        # Priors:\n",
        "        mu_0 = pm.Beta('mu_0', alpha=0.3, beta=10)\n",
        "        sig_0 = pm.Uniform('sig_0', lower=0.0, upper=mu_0 * (1 - mu_0))\n",
        "        beta = pm.Normal('beta', mu=0, sigma=5, shape=7)\n",
        "        sigma = pm.HalfNormal('sigma', sigma=5)\n",
        "\n",
        "        # Model mu from country-wise covariates:\n",
        "        # Apply logit transformation so logistic regression performed\n",
        "        mu_0_logit = np.log(mu_0 / (1 - mu_0))\n",
        "        mu_est = mu_0_logit + \\\n",
        "            beta[0] * df['days_since_first_case_normalized'].values + \\\n",
        "            beta[1] * df['cpi_score_2019_normalized'].values + \\\n",
        "            beta[2] * df['healthcare_oop_expenditure_normalized'].values + \\\n",
        "            beta[3] * df['hospital_beds_normalized'].values + \\\n",
        "            beta[4] * df['hci_normalized'].values + \\\n",
        "            beta[5] * df['population_perc_over65_normalized'].values + \\\n",
        "            beta[6] * df['population_perc_rural_normalized'].values\n",
        "        mu_model_logit = pm.Normal('mu_model_logit',\n",
        "                                   mu=mu_est,\n",
        "                                   sigma=sigma,\n",
        "                                   shape=n)\n",
        "        # Transform back to probability space:\n",
        "        mu_model = np.exp(mu_model_logit) / (np.exp(mu_model_logit) + 1)\n",
        "\n",
        "        # tau_i, mortality rate for each country\n",
        "        # Parametrize with (mu, sigma)\n",
        "        # instead of (alpha, beta) to ease interpretability.\n",
        "        tau = pm.Beta('tau', mu=mu_model, sigma=sig_0, shape=n)\n",
        "        # tau = pm.Beta('tau', mu=mu_0, sigma=sig_0, shape=n)\n",
        "\n",
        "        # Binomial likelihood:\n",
        "        d_obs = pm.Binomial('d_obs',\n",
        "                            n=df['cases'].values,\n",
        "                            p=tau,\n",
        "                            observed=df['deaths'].values)\n",
        "\n",
        "    return covid_mortality_model\n",
        "\n",
        "\n",
        "def _normalize_col(df, colname, how='mean'):\n",
        "    '''\n",
        "    Normalize an input column in one of 3 ways:\n",
        "\n",
        "    * how=mean: unit normal N(0,1)\n",
        "    * how=upper: normalize to [-1, 0] with highest value set to 0\n",
        "    * how=lower: normalize to [0, 1] with lowest value set to 0\n",
        "\n",
        "    Returns df modified in place with extra column added.\n",
        "    '''\n",
        "    colname_new = '%s_normalized' % colname\n",
        "    if how == 'mean':\n",
        "        mu = df[colname].mean()\n",
        "        sig = df[colname].std()\n",
        "        df[colname_new] = (df[colname] - mu) / sig\n",
        "    elif how == 'upper':\n",
        "        maxval = df[colname].max()\n",
        "        minval = df[colname].min()\n",
        "        df[colname_new] = (df[colname] - maxval) / (maxval - minval)\n",
        "    elif how == 'lower':\n",
        "        maxval = df[colname].max()\n",
        "        minval = df[colname].min()\n",
        "        df[colname_new] = (df[colname] - minval) / (maxval - minval)"
      ],
      "execution_count": 0,
      "outputs": []
    },
    {
      "cell_type": "code",
      "metadata": {
        "id": "W8t6hN76TiCE",
        "colab_type": "code",
        "colab": {
          "base_uri": "https://localhost:8080/",
          "height": 238
        },
        "outputId": "df2ccd33-79b1-44ca-a4ff-9ad42baf4cee"
      },
      "source": [
        "# hide\n",
        "\n",
        "# Initialize the model:\n",
        "mod = initialize_model(df)\n",
        "\n",
        "# Run MCMC sampler\n",
        "with mod:\n",
        "    trace = pm.sample(300, tune=100,\n",
        "                      chains=3, cores=3)\n"
      ],
      "execution_count": 8,
      "outputs": [
        {
          "output_type": "stream",
          "text": [
            "Only 300 samples in chain.\n",
            "Auto-assigning NUTS sampler...\n",
            "Initializing NUTS using jitter+adapt_diag...\n",
            "Multiprocess sampling (3 chains in 3 jobs)\n",
            "NUTS: [tau, mu_model_logit, sigma, beta, sig_0, mu_0]\n",
            "Sampling 3 chains, 148 divergences: 100%|██████████| 1200/1200 [01:59<00:00,  4.83draws/s]\n",
            "There were 38 divergences after tuning. Increase `target_accept` or reparameterize.\n",
            "There were 33 divergences after tuning. Increase `target_accept` or reparameterize.\n",
            "The chain reached the maximum tree depth. Increase max_treedepth, increase target_accept or reparameterize.\n",
            "There were 77 divergences after tuning. Increase `target_accept` or reparameterize.\n",
            "The acceptance probability does not match the target. It is 0.6430292388786828, but should be close to 0.8. Try to increase the number of tuning steps.\n",
            "The rhat statistic is larger than 1.2 for some parameters.\n",
            "The estimated number of effective samples is smaller than 200 for some parameters.\n"
          ],
          "name": "stderr"
        }
      ]
    },
    {
      "cell_type": "code",
      "metadata": {
        "id": "avV7l1JWTtAp",
        "colab_type": "code",
        "colab": {
          "base_uri": "https://localhost:8080/",
          "height": 703
        },
        "outputId": "d3d06b0b-2b9e-4e92-f551-c49d9bbc362f"
      },
      "source": [
        "#collapse-hide\n",
        "\n",
        "n_samp = len(trace['mu_0'])\n",
        "mu0_summary = pm.summary(trace).loc['mu_0']\n",
        "print(\"COVID-19 Global Mortality Rate Estimation:\")\n",
        "print(\"Posterior mean: %0.2f%%\" % (100*trace['mu_0'].mean()))\n",
        "print(\"Posterior median: %0.2f%%\" % (100*np.median(trace['mu_0'])))\n",
        "lower = np.sort(trace['mu_0'])[int(n_samp*0.025)]\n",
        "upper = np.sort(trace['mu_0'])[int(n_samp*0.975)]\n",
        "print(\"95%% posterior interval: (%0.2f%%, %0.2f%%)\" % (100*lower, 100*upper))\n",
        "print(\"\")\n",
        "\n",
        "# Posterior plot for mu0\n",
        "print('Posterior probability density for COVID-19 mortality rate, controlling for country factors:')\n",
        "ax = pm.plot_posterior(trace, var_names=['mu_0'], figsize=(18, 8), textsize=18,\n",
        "                       credible_interval=0.95, bw=3.0, lw=3, kind='kde')"
      ],
      "execution_count": 18,
      "outputs": [
        {
          "output_type": "stream",
          "text": [
            "COVID-19 Global Mortality Rate Estimation:\n",
            "Posterior mean: 1.29%\n",
            "Posterior median: 1.04%\n",
            "95% posterior interval: (0.28%, 3.67%)\n",
            "\n",
            "Posterior probability density for COVID-19 mortality rate, controlling for country factors:\n"
          ],
          "name": "stdout"
        },
        {
          "output_type": "display_data",
          "data": {
            "image/png": "[encoded data removed]",
            "text/plain": [
              "<Figure size 1296x576 with 1 Axes>"
            ]
          },
          "metadata": {
            "tags": []
          }
        }
      ]
    },
    {
      "cell_type": "markdown",
      "metadata": {
        "id": "8kGfpMrGU1ML",
        "colab_type": "text"
      },
      "source": [
        "# Magnitude and significance of factors for bias in reported COVID-19 mortality rate"
      ]
    },
    {
      "cell_type": "code",
      "metadata": {
        "id": "HUgv4QaNVOMt",
        "colab_type": "code",
        "colab": {
          "base_uri": "https://localhost:8080/",
          "height": 476
        },
        "outputId": "765794ef-443e-4793-953a-2edfcf45226e"
      },
      "source": [
        "#collapse-hide\n",
        "\n",
        "# Posterior summary for the beta parameters:\n",
        "beta_summary = pm.summary(trace).head(7)\n",
        "beta_summary.index = ['days_since_first_case', 'cpi', 'healthcare_oop', 'hospital_beds', 'hci', 'percent_over65', 'percent_rural']\n",
        "beta_summary.reset_index(drop=False, inplace=True)\n",
        "\n",
        "err_vals = ((beta_summary['hpd_3%'] - beta_summary['mean']).values,\n",
        "            (beta_summary['hpd_97%'] - beta_summary['mean']).values)\n",
        "ax = beta_summary.plot(x='index', y='mean', kind='bar', figsize=(14, 7),\n",
        "                 title='Posterior Distribution of Beta Parameters',\n",
        "                 yerr=err_vals, color='lightgrey',\n",
        "                 legend=False, grid=True,\n",
        "                 capsize=5)\n",
        "beta_summary.plot(x='index', y='mean', color='k', marker='o', linestyle='None',\n",
        "                  ax=ax, grid=True, legend=False, xlim=plt.gca().get_xlim())"
      ],
      "execution_count": 10,
      "outputs": [
        {
          "output_type": "execute_result",
          "data": {
            "text/plain": [
              "<matplotlib.axes._subplots.AxesSubplot at 0x7f40a3879940>"
            ]
          },
          "metadata": {
            "tags": []
          },
          "execution_count": 10
        },
        {
          "output_type": "display_data",
          "data": {
            "image/png": "[encoded data removed]",
            "text/plain": [
              "<Figure size 1008x504 with 1 Axes>"
            ]
          },
          "metadata": {
            "tags": []
          }
        }
      ]
    },
    {
      "cell_type": "markdown",
      "metadata": {
        "id": "VJput5LMVlNE",
        "colab_type": "text"
      },
      "source": [
        "### Interpretation of country-level parameters and how they affect reported mortality rates:\n",
        "\n",
        "1. days_since_first_case - positive (very statistically significant).  As time since outbreak increases, expected mortality rate **increases**, as expected.\n",
        "2. cpi - negative (statistically significant).  As government transparency increases, expected mortality rate **decreases**.  This may mean that less transparent governments under-report cases, hence inflating the mortality rate.\n",
        "3. healthcare avg. out-of-pocket spending - no significant trend.\n",
        "4. hospital beds per capita - no significant trend.\n",
        "5. Human Capital Index - no significant trend (slightly negative = mortality rates decrease with increased mobilization of the country)\n",
        "6. percent over 65 - positive (statistically significant).  As population age increases, the mortality rate also **increases**, as expected.\n",
        "7. percent rural - no significant trend.\n",
        "\n",
        "\n",
        "NOTE: The affects of these parameters are subject to change as more data are collected."
      ]
    }
  ]
}